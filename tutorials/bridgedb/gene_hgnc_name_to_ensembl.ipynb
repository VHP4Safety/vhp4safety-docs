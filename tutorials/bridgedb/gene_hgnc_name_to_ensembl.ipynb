{
 "cells": [
  {
   "cell_type": "markdown",
   "metadata": {},
   "source": [
    "# BridgeDb tutorial: Gene HGNC name to Ensembl identifier\n",
    "\n",
    "This tutorial explains how to use the BridgeDb identifier mapping service to translate HGNC names to Ensembl identifiers. This step is part of the OpenRiskNet use case to link Adverse Outcome Pathways to [WikiPathways](https://wikipathways.org/).\n",
    "\n",
    "First we need to load the Python library to allow calls to the [BridgeDb REST webservice](http://bridgedb.prod.openrisknet.org/swagger/):"
   ]
  },
  {
   "cell_type": "code",
   "execution_count": 2,
   "metadata": {},
   "outputs": [],
   "source": [
    "import requests"
   ]
  },
  {
   "cell_type": "markdown",
   "metadata": {},
   "source": [
    "Let's assume we're interested in the gene with HGNC MECP2 (FIXME: look up a gene in AOPWiki), the API call to make mappings is given below as `callUrl`. Here, the `H` indicates that the query (`MECP2`) is an HGNC symbol:"
   ]
  },
  {
   "cell_type": "code",
   "execution_count": 3,
   "metadata": {},
   "outputs": [],
   "source": [
    "callUrl = 'https://bridgedb.cloud.vhp4safety.nl/Human/xrefs/H/MECP2'"
   ]
  },
  {
   "cell_type": "markdown",
   "metadata": {},
   "source": [
    "The default call returns all identifiers, not just for Ensembl:"
   ]
  },
  {
   "cell_type": "code",
   "execution_count": 4,
   "metadata": {},
   "outputs": [
    {
     "data": {
      "text/plain": [
       "'4027037\\tAffy\\n4027036\\tAffy\\n4027039\\tAffy\\nNP_001356323\\tRefSeq\\n4027038\\tAffy\\nNP_001356322\\tRefSeq\\nGO:0042551\\tGeneOntology\\nNP_001356321\\tRefSeq\\nuc065car.1\\tUCSC Genome Browser\\nNP_001356320\\tRefSeq\\n4204\\tWikiGenes\\nGO:0051707\\tGeneOntology\\nGO:0043524\\tGeneOntology\\nHMNXSV003039744\\tAgilent\\nILMN_1702715\\tIllumina\\nGO:0045944\\tGeneOntology\\nuc065caz.1\\tUCSC Genome Browser\\nA_33_P3339036\\tAgilent\\nGO:0006576\\tGeneOntology\\nuc065cbc.1\\tUCSC Genome Browser\\n4027031\\tAffy\\n4027030\\tAffy\\n4027033\\tAffy\\n4027032\\tAffy\\n4027035\\tAffy\\n4027034\\tAffy\\nGO:0060090\\tGeneOntology\\n4027048\\tAffy\\n4027047\\tAffy\\n4027049\\tAffy\\nGO:0090063\\tGeneOntology\\nGO:0002087\\tGeneOntology\\nGO:0007416\\tGeneOntology\\nXP_047298078\\tRefSeq\\nXP_047298073\\tRefSeq\\nXP_047298071\\tRefSeq\\nXP_047298072\\tRefSeq\\nGO:0007420\\tGeneOntology\\n4027040\\tAffy\\n4027042\\tAffy\\nGO:0046470\\tGeneOntology\\n4027041\\tAffy\\n4027044\\tAffy\\n4027043\\tAffy\\nGO:0010385\\tGeneOntology\\nILMN_3310740\\tIllumina\\n4027046\\tAffy\\n4027045\\tAffy\\n11722682_at\\tAffy\\n4027059\\tAffy\\n4027058\\tAffy\\nGO:1990841\\tGeneOntology\\nGO:0003723\\tGeneOntology\\nGO:0001666\\tGeneOntology\\nGO:0003729\\tGeneOntology\\nuc065cas.1\\tUCSC Genome Browser\\nGO:0001662\\tGeneOntology\\nNM_001369391\\tRefSeq\\nNM_001369392\\tRefSeq\\nNM_001369393\\tRefSeq\\nNM_001369394\\tRefSeq\\nuc065cbd.1\\tUCSC Genome Browser\\n4027051\\tAffy\\n4027050\\tAffy\\n4027053\\tAffy\\n4027052\\tAffy\\n4027055\\tAffy\\n4027057\\tAffy\\nGO:0016358\\tGeneOntology\\nNM_004992\\tRefSeq\\nGO:0003714\\tGeneOntology\\n4027069\\tAffy\\nuc004fjv.4\\tUCSC Genome Browser\\nHGNC:6990\\tHGNC Accession number\\nD3YJ43\\tUniprot-TrEMBL\\nGO:0043537\\tGeneOntology\\nGO:0006541\\tGeneOntology\\nGO:0040029\\tGeneOntology\\nA_33_P3317211\\tAgilent\\nNP_001303266\\tRefSeq\\n11722683_a_at\\tAffy\\nGO:0051151\\tGeneOntology\\n4027060\\tAffy\\nNM_001110792\\tRefSeq\\n4027062\\tAffy\\n4027061\\tAffy\\n4027063\\tAffy\\n4027065\\tAffy\\n4027068\\tAffy\\nA0A0D9SEX1\\tUniprot-TrEMBL\\nGO:0098794\\tGeneOntology\\n5BT2\\tPDB\\nGO:0006020\\tGeneOntology\\nGO:0140693\\tGeneOntology\\nGO:0031175\\tGeneOntology\\nGO:1905643\\tGeneOntology\\nuc065cbe.1\\tUCSC Genome Browser\\n6C1Y\\tPDB\\nGO:0060291\\tGeneOntology\\n202618_s_at\\tAffy\\n17115453\\tAffy\\n4027079\\tAffy\\n4027078\\tAffy\\nGO:0048167\\tGeneOntology\\nuc004fjw.4\\tUCSC Genome Browser\\nGO:0031507\\tGeneOntology\\nGO:0008306\\tGeneOntology\\nGO:0007219\\tGeneOntology\\nGO:0010629\\tGeneOntology\\nuc288oyf.1\\tUCSC Genome Browser\\nGO:0007585\\tGeneOntology\\n4027080\\tAffy\\ng972764_3p_a_at\\tAffy\\n4027082\\tAffy\\n4027081\\tAffy\\nGO:0051570\\tGeneOntology\\n4027084\\tAffy\\ng7710148_3p_a_at\\tAffy\\nuc288pkg.1\\tUCSC Genome Browser\\n4027083\\tAffy\\n4027086\\tAffy\\n4027085\\tAffy\\n4027088\\tAffy\\nHs.3239.0.S2_3p_a_at\\tAffy\\n4027087\\tAffy\\n4027089\\tAffy\\n6OGJ\\tPDB\\n6OGK\\tPDB\\nXM_047442122\\tRefSeq\\nGO:0005829\\tGeneOntology\\nuc065cau.1\\tUCSC Genome Browser\\n202616_PM_s_at\\tAffy\\nGO:0006357\\tGeneOntology\\nGO:0010971\\tGeneOntology\\nGO:0099191\\tGeneOntology\\nGO:0008542\\tGeneOntology\\nGO:0060079\\tGeneOntology\\nuc065cbf.1\\tUCSC Genome Browser\\n4027091\\tAffy\\n4027090\\tAffy\\n4027092\\tAffy\\nC9JH89\\tUniprot-TrEMBL\\n4027099\\tAffy\\nGO:0032048\\tGeneOntology\\nuc288qen.1\\tUCSC Genome Browser\\nGO:0005813\\tGeneOntology\\nXM_047442117\\tRefSeq\\nP51608\\tUniprot-TrEMBL\\n1QK9\\tPDB\\nGO:0006349\\tGeneOntology\\nGO:0000122\\tGeneOntology\\nNP_001373068\\tRefSeq\\nGO:0001964\\tGeneOntology\\nuc065cav.2\\tUCSC Genome Browser\\nNP_001373066\\tRefSeq\\nNP_001373067\\tRefSeq\\n34355_at\\tAffy\\nGO:0007268\\tGeneOntology\\nMECP2\\tHGNC\\nuc065cbg.2\\tUCSC Genome Browser\\nA0A6Q8PF93\\tUniprot-TrEMBL\\nGO:0035176\\tGeneOntology\\nGO:0060252\\tGeneOntology\\nTC0X002288.hg\\tAffy\\nGO:0033555\\tGeneOntology\\nGO:0045892\\tGeneOntology\\nA_23_P114361\\tAgilent\\nGO:0045893\\tGeneOntology\\nENSG00000169057\\tEnsembl\\nGO:0005515\\tGeneOntology\\nGO:0005634\\tGeneOntology\\nGO:0008104\\tGeneOntology\\nHMNXSV003006762\\tAgilent\\n300005\\tOMIM\\nNP_001104262\\tRefSeq\\nNP_004983\\tRefSeq\\nGO:0016525\\tGeneOntology\\nNM_001316337\\tRefSeq\\nuc065caw.1\\tUCSC Genome Browser\\nA0A0D9SFX7\\tUniprot-TrEMBL\\nA0A140VKC4\\tUniprot-TrEMBL\\nGO:0019233\\tGeneOntology\\nGO:0045202\\tGeneOntology\\nGO:0021591\\tGeneOntology\\nuc288oef.1\\tUCSC Genome Browser\\n202618_PM_s_at\\tAffy\\nGO:0019230\\tGeneOntology\\nGO:0003682\\tGeneOntology\\n6YWW\\tPDB\\nuc065cbh.1\\tUCSC Genome Browser\\nX99687_at\\tAffy\\nGO:0008344\\tGeneOntology\\nGO:0009791\\tGeneOntology\\nGO:0019904\\tGeneOntology\\nGO:0030182\\tGeneOntology\\nGO:0035197\\tGeneOntology\\n8175998\\tAffy\\nTC0X001524.hg\\tAffy\\nuc286dlz.1\\tUCSC Genome Browser\\n8175977\\tAffy\\nGO:0005615\\tGeneOntology\\nGO:0005737\\tGeneOntology\\n202617_s_at\\tAffy\\nGO:0050905\\tGeneOntology\\nGO:0008327\\tGeneOntology\\nGO:0003677\\tGeneOntology\\nGO:0003676\\tGeneOntology\\nGO:0008211\\tGeneOntology\\n17115428\\tAffy\\nX89430_at\\tAffy\\nGO:2000820\\tGeneOntology\\n4027100\\tAffy\\nA0A6Q8PHQ3\\tUniprot-TrEMBL\\nGO:0003700\\tGeneOntology\\nGO:0047485\\tGeneOntology\\n4204\\tEntrez Gene\\n202617_PM_s_at\\tAffy\\n3C2I\\tPDB\\nGO:0000792\\tGeneOntology\\nuc065cax.1\\tUCSC Genome Browser\\nGO:0008283\\tGeneOntology\\nGO:0008284\\tGeneOntology\\nuc065cba.1\\tUCSC Genome Browser\\nGO:0016573\\tGeneOntology\\nNM_001386139\\tRefSeq\\nuc286dmb.1\\tUCSC Genome Browser\\nA0A1B0GTV0\\tUniprot-TrEMBL\\nuc065cbi.1\\tUCSC Genome Browser\\nuc286dly.1\\tUCSC Genome Browser\\nGO:0007616\\tGeneOntology\\nGO:0016571\\tGeneOntology\\nGO:0007613\\tGeneOntology\\nGO:0007612\\tGeneOntology\\nGO:0021549\\tGeneOntology\\n11722684_a_at\\tAffy\\nX94628_rna1_s_at\\tAffy\\nGO:0010467\\tGeneOntology\\nGO:0010468\\tGeneOntology\\nA_24_P237486\\tAgilent\\nHMNXSV003048644\\tAgilent\\nGO:0050884\\tGeneOntology\\nH7BY72\\tUniprot-TrEMBL\\n202616_s_at\\tAffy\\nuc065cay.1\\tUCSC Genome Browser\\nuc065cbb.1\\tUCSC Genome Browser\\nGO:0007052\\tGeneOntology\\nuc286dma.1\\tUCSC Genome Browser\\nB5MCB4\\tUniprot-TrEMBL\\nGO:0050432\\tGeneOntology\\n4027026\\tAffy\\nuc286dlx.1\\tUCSC Genome Browser\\n4027025\\tAffy\\nGO:0001976\\tGeneOntology\\n4027028\\tAffy\\n4027027\\tAffy\\nNM_001386138\\tRefSeq\\n4027029\\tAffy\\nNM_001386137\\tRefSeq\\nILMN_1682091\\tIllumina\\nGO:0005654\\tGeneOntology\\nGO:1900114\\tGeneOntology\\nGO:0014009\\tGeneOntology\\nILMN_1824898\\tIllumina\\n4027024\\tAffy\\n0006510725\\tIllumina\\n4027023\\tAffy\\n'"
      ]
     },
     "execution_count": 4,
     "metadata": {},
     "output_type": "execute_result"
    }
   ],
   "source": [
    "response = requests.get(callUrl)\n",
    "response.text"
   ]
  },
  {
   "cell_type": "markdown",
   "metadata": {},
   "source": [
    "You can also see the results are returned as a TSV file, consisting of two columns, the identifier and the matching database.\n",
    "\n",
    "We will want to convert this reply into a Python dictionary (with the identifier as key, as one database may have multiple identifiers):"
   ]
  },
  {
   "cell_type": "code",
   "execution_count": 5,
   "metadata": {},
   "outputs": [
    {
     "name": "stdout",
     "output_type": "stream",
     "text": [
      "{'ENSG00000169057': 'Ensembl'}\n"
     ]
    }
   ],
   "source": [
    "lines = response.text.split(\"\\n\")\n",
    "mappings = {}\n",
    "for line in lines:\n",
    "    if ('\\t' in line):\n",
    "        tuple = line.split('\\t')\n",
    "        identifier = tuple[0]\n",
    "        database = tuple[1]\n",
    "        if (database == \"Ensembl\"):\n",
    "            mappings[identifier] = database\n",
    "\n",
    "print(mappings)"
   ]
  },
  {
   "cell_type": "markdown",
   "metadata": {},
   "source": [
    "Alternatively, we can restrivct the return values from the BridgeDb webservice to just return Ensembl identifiers (system code `En`). For this, we add the `?dataSource=En` call parameter:"
   ]
  },
  {
   "cell_type": "code",
   "execution_count": 6,
   "metadata": {},
   "outputs": [
    {
     "data": {
      "text/plain": [
       "'ENSG00000169057\\tEnsembl\\n'"
      ]
     },
     "execution_count": 6,
     "metadata": {},
     "output_type": "execute_result"
    }
   ],
   "source": [
    "callUrl = 'https://webservice.bridgedb.org/Human/xrefs/H/MECP2?dataSource=En'\n",
    "response = requests.get(callUrl)\n",
    "response.text"
   ]
  },
  {
   "cell_type": "code",
   "execution_count": null,
   "metadata": {},
   "outputs": [],
   "source": []
  }
 ],
 "metadata": {
  "kernelspec": {
   "display_name": "Python 3 (ipykernel)",
   "language": "python",
   "name": "python3"
  },
  "language_info": {
   "codemirror_mode": {
    "name": "ipython",
    "version": 3
   },
   "file_extension": ".py",
   "mimetype": "text/x-python",
   "name": "python",
   "nbconvert_exporter": "python",
   "pygments_lexer": "ipython3",
   "version": "3.9.16"
  }
 },
 "nbformat": 4,
 "nbformat_minor": 2
}
